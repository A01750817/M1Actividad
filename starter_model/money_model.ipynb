{
 "cells": [
  {
   "cell_type": "code",
   "execution_count": 1,
   "id": "e262305c-1748-4fd6-829c-e7734e8c8014",
   "metadata": {},
   "outputs": [],
   "source": [
    "import mesa\n",
    "\n",
    "# Data visualization tools.\n",
    "import seaborn as sns\n",
    "\n",
    "# Has multi-dimensional arrays and matrices. Has a large collection of\n",
    "# mathematical functions to operate on these arrays.\n",
    "import numpy as np\n",
    "\n",
    "# Data manipulation and analysis.\n",
    "import pandas as pd"
   ]
  },
  {
   "cell_type": "code",
   "execution_count": 29,
   "id": "d7d5b43d-ec31-44d2-aade-609258c21d52",
   "metadata": {},
   "outputs": [],
   "source": [
    "import copy\n"
   ]
  },
  {
   "cell_type": "code",
   "execution_count": 89,
   "id": "851db837-0c64-4743-951a-0b08f8be704f",
   "metadata": {},
   "outputs": [],
   "source": [
    "class CleanAgent(mesa.Agent):\n",
    "    \"\"\"Un agente que limpia la celda si está sucia.\"\"\"\n",
    "\n",
    "    def __init__(self, unique_id, model):\n",
    "        super().__init__(unique_id, model)\n",
    "        self.moves = 0  # Contador de movimientos del agente\n",
    "\n",
    "    def clean_cell(self):\n",
    "        \"\"\"Limpia la celda actual si está sucia.\"\"\"\n",
    "        if self.pos in self.model.dirty_cells:\n",
    "            self.model.dirty_cells.remove(self.pos)\n",
    "\n",
    "    def move(self):\n",
    "        \"\"\"Mueve al agente a una celda vecina aleatoria que esté vacía.\"\"\"\n",
    "        possible_steps = self.model.grid.get_neighborhood(\n",
    "            self.pos, moore=True, include_center=False\n",
    "        )\n",
    "        # Filtrar solo las posiciones que están vacías\n",
    "        empty_steps = [step for step in possible_steps if self.model.is_cell_available(step)]\n",
    "        if empty_steps:\n",
    "            new_position = self.random.choice(empty_steps)\n",
    "            self.model.grid.move_agent(self, new_position)\n",
    "            self.moves += 1\n",
    "            self.model.total_moves += 1  # Incrementa el contador total de movimientos\n",
    "\n",
    "    def step(self):\n",
    "        \"\"\"Define las acciones que realiza el agente en cada paso.\"\"\"\n",
    "        if self.pos in self.model.dirty_cells:\n",
    "            self.clean_cell()\n",
    "        else:\n",
    "            self.move()"
   ]
  },
  {
   "cell_type": "code",
   "execution_count": 90,
   "id": "7f70a3b7-e3fe-461d-92f0-1342e99f23bc",
   "metadata": {},
   "outputs": [],
   "source": [
    "class CleanModel(mesa.Model):\n",
    "    \"\"\"Modelo con un número de agentes limpiadores en una cuadrícula toroidal.\"\"\"\n",
    "\n",
    "    def __init__(self, NumberAgents=20, widthM=20, heightN=20, dirtycellPercent=0.4, maxTimeExecution=1000):\n",
    "        super().__init__()\n",
    "        self.num_agents = NumberAgents\n",
    "        self.grid = mesa.space.MultiGrid(widthM, heightN, torus=True)  # Usar MultiGrid con torus=True\n",
    "        self.schedule = mesa.time.RandomActivation(self)\n",
    "        self.maxTimeExecution = maxTimeExecution\n",
    "        self.time = 0  # Contador de tiempo\n",
    "        self.total_moves = 0  # Contador de movimientos\n",
    "        self.dirty_cells = set()\n",
    "\n",
    "        # Inicializar celdas sucias\n",
    "        for x in range(widthM):\n",
    "            for y in range(heightN):\n",
    "                if self.random.random() < dirtycellPercent:\n",
    "                    self.dirty_cells.add((x, y))\n",
    "\n",
    "        # Crear agentes y ubicarlos en (1, 1)\n",
    "        for i in range(self.num_agents):\n",
    "            agent = CleanAgent(i, self)\n",
    "            self.schedule.add(agent)\n",
    "            self.grid.place_agent(agent, (1, 1))  # Todos los agentes empiezan en (1, 1)\n",
    "\n",
    "    def is_cell_available(self, pos):\n",
    "        \"\"\"Verifica si una celda está vacía (sin agentes) excepto para la celda inicial (1, 1).\"\"\"\n",
    "        agents = self.grid.get_cell_list_contents([pos])\n",
    "        if pos == (1, 1):\n",
    "            # Permitir múltiples agentes en (1, 1)\n",
    "            return True\n",
    "        else:\n",
    "            return len(agents) == 0\n",
    "\n",
    "    def step(self):\n",
    "        \"\"\"Ejecuta un paso de la simulación.\"\"\"\n",
    "        self.schedule.step()\n",
    "        self.time += 1\n",
    "\n",
    "        # Verificar si todas las celdas están limpias o si se alcanzó el tiempo máximo\n",
    "        if not self.dirty_cells or self.time >= self.maxTimeExecution:\n",
    "            self.running = False  # Detiene la simulación\n",
    "\n",
    "            # Calcular el porcentaje de celdas limpias\n",
    "            total_cells = self.grid.width * self.grid.height\n",
    "            clean_cells = total_cells - len(self.dirty_cells)\n",
    "            percentage_clean = (clean_cells / total_cells) * 100\n",
    "\n",
    "            # Imprimir o guardar las estadísticas\n",
    "            print(f\"Tiempo total: {self.time}\")\n",
    "            print(f\"Porcentaje de celdas limpias: {percentage_clean:.2f}%\")\n",
    "            print(f\"Total de movimientos: {self.total_moves}\")\n"
   ]
  },
  {
   "cell_type": "code",
   "execution_count": 91,
   "id": "95b775b0-9d7c-4198-ae7a-d670bbb42434",
   "metadata": {},
   "outputs": [
    {
     "name": "stdout",
     "output_type": "stream",
     "text": [
      "Tiempo total: 1000\n",
      "Porcentaje de celdas limpias: 99.50%\n",
      "Total de movimientos: 18674\n"
     ]
    }
   ],
   "source": [
    "model = CleanModel(NumberAgents=20, widthM=40, heightN=40, dirtycellPercent=0.8, maxTimeExecution=1000)\n",
    "while model.running:\n",
    "    model.step()"
   ]
  },
  {
   "cell_type": "code",
   "execution_count": null,
   "id": "ba00245c-00e1-4c51-9cb6-658058bbd74d",
   "metadata": {},
   "outputs": [],
   "source": []
  },
  {
   "cell_type": "code",
   "execution_count": null,
   "id": "cbacf5b5-0f88-456a-a89f-8cf1a2e39105",
   "metadata": {},
   "outputs": [],
   "source": []
  },
  {
   "cell_type": "code",
   "execution_count": null,
   "id": "0902f209-6594-4438-81b8-e1f9dc7afa8b",
   "metadata": {},
   "outputs": [],
   "source": []
  },
  {
   "cell_type": "code",
   "execution_count": null,
   "id": "df7f2bab-562f-4164-a824-38723a6711c0",
   "metadata": {},
   "outputs": [],
   "source": []
  }
 ],
 "metadata": {
  "kernelspec": {
   "display_name": "Python 3 (ipykernel)",
   "language": "python",
   "name": "python3"
  },
  "language_info": {
   "codemirror_mode": {
    "name": "ipython",
    "version": 3
   },
   "file_extension": ".py",
   "mimetype": "text/x-python",
   "name": "python",
   "nbconvert_exporter": "python",
   "pygments_lexer": "ipython3",
   "version": "3.12.4"
  }
 },
 "nbformat": 4,
 "nbformat_minor": 5
}

{
 "cells": [
  {
   "cell_type": "code",
   "execution_count": 1,
   "id": "e262305c-1748-4fd6-829c-e7734e8c8014",
   "metadata": {},
   "outputs": [],
   "source": [
    "import mesa\n",
    "\n",
    "# Data visualization tools.\n",
    "import seaborn as sns\n",
    "\n",
    "# Has multi-dimensional arrays and matrices. Has a large collection of\n",
    "# mathematical functions to operate on these arrays.\n",
    "import numpy as np\n",
    "\n",
    "# Data manipulation and analysis.\n",
    "import pandas as pd"
   ]
  },
  {
   "cell_type": "code",
   "execution_count": 29,
   "id": "d7d5b43d-ec31-44d2-aade-609258c21d52",
   "metadata": {},
   "outputs": [],
   "source": [
    "import copy\n"
   ]
  },
  {
   "cell_type": "code",
   "execution_count": 74,
   "id": "851db837-0c64-4743-951a-0b08f8be704f",
   "metadata": {},
   "outputs": [],
   "source": [
    "class CleanAgent(mesa.Agent):\n",
    "    \"\"\"An agent that cleans the cell if it is dirty\"\"\"\n",
    "\n",
    "    def __init__(self, unique_id, model):\n",
    "        super().__init__(unique_id, model)\n",
    "        # self.wealth = 1\n",
    "\n",
    "    def move(self):\n",
    "        possible_steps = self.model.grid.get_neighborhood(\n",
    "            self.pos, moore=True, include_center=False\n",
    "        ) #Obtiene los \"vecinos\" de \"possible_steps\" que son las celdas \n",
    "        # a las que se podria mover el agente\n",
    "\n",
    "        #Busca los vecinos vacios (no otros agentes\n",
    "        empty_steps = [steps for steps in possible_steps if self.model.grid.is_cell_empty(step)] \n",
    "        if empty_steps: # si hay espacios vacios\n",
    "            new_position = self.random.choice(empty_steps)\n",
    "            self.model.grid.move_agent(self, new_position)\n",
    "\n",
    "    def cleanCell(self):\n",
    "        ...\n",
    "    # def give_money(self):\n",
    "    #     cellmates = self.model.grid.get_cell_list_contents([self.pos])\n",
    "    #     if len(cellmates) > 1:\n",
    "    #         other_agent = self.random.choice(cellmates)\n",
    "    #         other_agent.wealth += 1\n",
    "    #         self.wealth -= 1\n",
    "\n",
    "    def step(self):\n",
    "        self.move()"
   ]
  },
  {
   "cell_type": "code",
   "execution_count": 80,
   "id": "7f70a3b7-e3fe-461d-92f0-1342e99f23bc",
   "metadata": {},
   "outputs": [],
   "source": [
    "class CleanModel(mesa.Model):\n",
    "    \"\"\"A model with some number of agents.\"\"\"\n",
    "\n",
    "    def __init__(self, NumberAgents = 20, widthM = 20 , heightN = 20, dirtycellPercent = 0.4, maxTimeExecution = 1000):\n",
    "        super().__init__()\n",
    "        self.num_agents = NumberAgents\n",
    "        self.grid = mesa.space.SingleGrid(widthM, heightN, True, torus=True)\n",
    "        self.schedule = mesa.time.RandomActivation(self)\n",
    "        self.dirty_cells = set()\n",
    "\n",
    "        # Create agents\n",
    "        for i in range(self.num_agents):\n",
    "            a = CleanAgent(i, self)\n",
    "            self.schedule.add(a)\n",
    "\n",
    "            # Add agents in [1,1]\n",
    "            self.grid.place_agent\n",
    "            # Inicializar celdas sucias\n",
    "            for x in range(widthM):\n",
    "                for y in range(heightN):\n",
    "                    if self.random.random() < dirtycellPercent:\n",
    "                        self.dirty_cells.add((x, y))\n",
    "\n",
    "    \n",
    "            # Add the agent to a random grid cell\n",
    "            # x = self.random.randrange(self.grid.width)\n",
    "            # y = self.random.randrange(self.grid.height)\n",
    "            # self.grid.place_agent(a, (x, y))\n",
    "\n",
    "    def step(self):\n",
    "        self.schedule.step()"
   ]
  },
  {
   "cell_type": "code",
   "execution_count": 78,
   "id": "95b775b0-9d7c-4198-ae7a-d670bbb42434",
   "metadata": {},
   "outputs": [
    {
     "ename": "TypeError",
     "evalue": "_PropertyGrid.__init__() got multiple values for argument 'torus'",
     "output_type": "error",
     "traceback": [
      "\u001b[1;31m---------------------------------------------------------------------------\u001b[0m",
      "\u001b[1;31mTypeError\u001b[0m                                 Traceback (most recent call last)",
      "Cell \u001b[1;32mIn[78], line 1\u001b[0m\n\u001b[1;32m----> 1\u001b[0m model \u001b[38;5;241m=\u001b[39m \u001b[43mCleanModel\u001b[49m\u001b[43m(\u001b[49m\u001b[43m)\u001b[49m\n\u001b[0;32m      2\u001b[0m \u001b[38;5;28;01mfor\u001b[39;00m i \u001b[38;5;129;01min\u001b[39;00m \u001b[38;5;28mrange\u001b[39m(\u001b[38;5;241m20\u001b[39m):\n\u001b[0;32m      3\u001b[0m     model\u001b[38;5;241m.\u001b[39mstep()\n",
      "Cell \u001b[1;32mIn[77], line 7\u001b[0m, in \u001b[0;36mCleanModel.__init__\u001b[1;34m(self, NumberAgents, widthM, heightN, dirtycellPercent, maxTimeExecution)\u001b[0m\n\u001b[0;32m      5\u001b[0m \u001b[38;5;28msuper\u001b[39m()\u001b[38;5;241m.\u001b[39m\u001b[38;5;21m__init__\u001b[39m()\n\u001b[0;32m      6\u001b[0m \u001b[38;5;28mself\u001b[39m\u001b[38;5;241m.\u001b[39mnum_agents \u001b[38;5;241m=\u001b[39m NumberAgents\n\u001b[1;32m----> 7\u001b[0m \u001b[38;5;28mself\u001b[39m\u001b[38;5;241m.\u001b[39mgrid \u001b[38;5;241m=\u001b[39m \u001b[43mmesa\u001b[49m\u001b[38;5;241;43m.\u001b[39;49m\u001b[43mspace\u001b[49m\u001b[38;5;241;43m.\u001b[39;49m\u001b[43mSingleGrid\u001b[49m\u001b[43m(\u001b[49m\u001b[43mwidthM\u001b[49m\u001b[43m,\u001b[49m\u001b[43m \u001b[49m\u001b[43mheightN\u001b[49m\u001b[43m,\u001b[49m\u001b[43m \u001b[49m\u001b[38;5;28;43;01mTrue\u001b[39;49;00m\u001b[43m,\u001b[49m\u001b[43mtorus\u001b[49m\u001b[38;5;241;43m=\u001b[39;49m\u001b[38;5;28;43;01mTrue\u001b[39;49;00m\u001b[43m)\u001b[49m\n\u001b[0;32m      8\u001b[0m \u001b[38;5;28mself\u001b[39m\u001b[38;5;241m.\u001b[39mschedule \u001b[38;5;241m=\u001b[39m mesa\u001b[38;5;241m.\u001b[39mtime\u001b[38;5;241m.\u001b[39mRandomActivation(\u001b[38;5;28mself\u001b[39m)\n\u001b[0;32m      9\u001b[0m \u001b[38;5;66;03m# Create agents\u001b[39;00m\n",
      "\u001b[1;31mTypeError\u001b[0m: _PropertyGrid.__init__() got multiple values for argument 'torus'"
     ]
    }
   ],
   "source": [
    "model = CleanModel()\n",
    "for i in range(20):\n",
    "    model.step()"
   ]
  },
  {
   "cell_type": "code",
   "execution_count": 62,
   "id": "3fc747c1-0807-4c16-a8b0-4218f72db80d",
   "metadata": {},
   "outputs": [
    {
     "data": {
      "image/png": "[encoded data removed]",
      "text/plain": [
       "<Figure size 400x400 with 1 Axes>"
      ]
     },
     "metadata": {},
     "output_type": "display_data"
    }
   ],
   "source": [
    "agent_counts = np.zeros((model.grid.width, model.grid.height))\n",
    "for cell_content, (x, y) in model.grid.coord_iter():\n",
    "    agent_count = len(cell_content)\n",
    "    agent_counts[x][y] = agent_count\n",
    "# Plot using seaborn, with a size of 5x5\n",
    "g = sns.heatmap(agent_counts, cmap=\"viridis\", annot=True, cbar=False, square=True)\n",
    "g.figure.set_size_inches(4, 4)\n",
    "g.set(title=\"Number of agents on each cell of the grid\");"
   ]
  },
  {
   "cell_type": "code",
   "execution_count": null,
   "id": "ba00245c-00e1-4c51-9cb6-658058bbd74d",
   "metadata": {},
   "outputs": [],
   "source": []
  },
  {
   "cell_type": "code",
   "execution_count": null,
   "id": "cbacf5b5-0f88-456a-a89f-8cf1a2e39105",
   "metadata": {},
   "outputs": [],
   "source": []
  },
  {
   "cell_type": "code",
   "execution_count": null,
   "id": "0902f209-6594-4438-81b8-e1f9dc7afa8b",
   "metadata": {},
   "outputs": [],
   "source": []
  },
  {
   "cell_type": "code",
   "execution_count": null,
   "id": "df7f2bab-562f-4164-a824-38723a6711c0",
   "metadata": {},
   "outputs": [],
   "source": []
  }
 ],
 "metadata": {
  "kernelspec": {
   "display_name": "Python 3 (ipykernel)",
   "language": "python",
   "name": "python3"
  },
  "language_info": {
   "codemirror_mode": {
    "name": "ipython",
    "version": 3
   },
   "file_extension": ".py",
   "mimetype": "text/x-python",
   "name": "python",
   "nbconvert_exporter": "python",
   "pygments_lexer": "ipython3",
   "version": "3.12.4"
  }
 },
 "nbformat": 4,
 "nbformat_minor": 5
}
